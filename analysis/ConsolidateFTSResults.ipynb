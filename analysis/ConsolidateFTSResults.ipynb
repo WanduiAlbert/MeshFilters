{
 "cells": [
  {
   "cell_type": "code",
   "execution_count": 1,
   "metadata": {
    "collapsed": true
   },
   "outputs": [],
   "source": [
    "import numpy as np\n",
    "import matplotlib.pyplot as plt\n",
    "%matplotlib inline\n",
    "import h5py"
   ]
  },
  {
   "cell_type": "code",
   "execution_count": 2,
   "metadata": {
    "collapsed": false
   },
   "outputs": [
    {
     "name": "stdout",
     "output_type": "stream",
     "text": [
      "[u'15-02-3', u'15-02-5', u'18-01', u'18-01-2', u'27-01', u'611-612', u'612-613']\n"
     ]
    }
   ],
   "source": [
    "FTSres = h5py.File('mesh_filters.hdf5', 'r')\n",
    "print (FTSres.keys())\n",
    "grp = FTSres['18-01-2/']"
   ]
  },
  {
   "cell_type": "markdown",
   "metadata": {},
   "source": [
    "Let's start by loading all the A, R, T from each of the scans and making plots of them"
   ]
  },
  {
   "cell_type": "code",
   "execution_count": 3,
   "metadata": {
    "collapsed": false
   },
   "outputs": [
    {
     "name": "stdout",
     "output_type": "stream",
     "text": [
      "15-02-3/150GHz/Xpol/\n",
      "A = 0.264602 R = 1.735263 T = 98.000135\n",
      "\n",
      "15-02-3/150GHz/Ypol/\n",
      "A = 1.231733 R = 2.295588 T = 96.472678\n",
      "\n",
      "15-02-3/95GHz/Xpol/\n",
      "A = -1.837363 R = 0.727445 T = 101.109918\n",
      "\n",
      "15-02-3/95GHz/Ypol/\n",
      "A = -1.330275 R = 0.828057 T = 100.502218\n",
      "\n",
      "15-02-5/150GHz/Xpol/\n",
      "A = 0.132714 R = 1.508041 T = 98.359246\n",
      "\n",
      "15-02-5/150GHz/Ypol/\n",
      "A = 0.588389 R = 2.178965 T = 97.232645\n",
      "\n",
      "15-02-5/95GHz/Xpol/\n",
      "A = -0.208643 R = 0.475486 T = 99.733157\n",
      "\n",
      "15-02-5/95GHz/Ypol/\n",
      "A = -0.189622 R = 0.853759 T = 99.335863\n",
      "\n",
      "18-01/150GHz/Xpol/\n",
      "A = 0.408631 R = 0.649727 T = 98.941642\n",
      "\n",
      "18-01/150GHz/Ypol/\n",
      "A = 0.478123 R = 0.685477 T = 98.836400\n",
      "\n",
      "18-01/95GHz/Xpol/\n",
      "A = 1.324007 R = 0.142490 T = 98.533503\n",
      "\n",
      "18-01/95GHz/Ypol/\n",
      "A = 1.218359 R = 0.167844 T = 98.613797\n",
      "\n",
      "18-01-2/150GHz/Xpol/\n",
      "A = 0.363131 R = 0.677655 T = 98.959214\n",
      "\n",
      "18-01-2/150GHz/Ypol/\n",
      "A = 0.042470 R = 0.579634 T = 99.377895\n",
      "\n",
      "18-01-2/95GHz/Xpol/\n",
      "A = -0.240444 R = 0.314941 T = 99.925503\n",
      "\n",
      "18-01-2/95GHz/Ypol/\n",
      "A = -0.217085 R = 0.184225 T = 100.032859\n",
      "\n",
      "27-01/150GHz/Xpol/\n",
      "A = 0.343410 R = 2.360640 T = 97.295949\n",
      "\n",
      "27-01/150GHz/Ypol/\n",
      "A = 0.165390 R = 2.210762 T = 97.623848\n",
      "\n",
      "27-01/95GHz/Xpol/\n",
      "A = 1.585744 R = 0.454399 T = 97.959857\n",
      "\n",
      "27-01/95GHz/Ypol/\n",
      "A = 1.920980 R = 0.432286 T = 97.646734\n",
      "\n",
      "611-612/150GHz/Xpol/\n",
      "A = 0.824172 R = 1.247945 T = 97.927884\n",
      "\n",
      "611-612/150GHz/Ypol/\n",
      "A = 0.585065 R = 1.406851 T = 98.008083\n",
      "\n",
      "611-612/95GHz/Xpol/\n",
      "A = -0.219545 R = 0.636372 T = 99.583174\n",
      "\n",
      "611-612/95GHz/Ypol/\n",
      "A = -0.499555 R = 0.708380 T = 99.791176\n",
      "\n",
      "612-613/150GHz/Xpol/\n",
      "A = 8.391653 R = 1.214576 T = 90.393772\n",
      "\n",
      "612-613/150GHz/Ypol/\n",
      "A = 4.642197 R = 1.647862 T = 93.709942\n",
      "\n",
      "612-613/95GHz/Xpol/\n",
      "A = 7.721127 R = 0.970776 T = 91.308097\n",
      "\n",
      "612-613/95GHz/Ypol/\n",
      "A = 2.353237 R = 0.987670 T = 96.659093\n",
      "\n"
     ]
    }
   ],
   "source": [
    "filters = FTSres.keys()\n",
    "keys = ['150GHz/Xpol/', '150GHz/Ypol/', '95GHz/Xpol/', '95GHz/Ypol/' ]\n",
    "for afilter in filters:\n",
    "    grp = FTSres[afilter]\n",
    "    for key in keys:\n",
    "        print (afilter + '/' + key)\n",
    "        A = grp[key  +'A_mcmc'][...]*100\n",
    "        R = grp[key  +'R_mcmc'][...]*100\n",
    "        T = grp[key  +'T_mcmc'][...]*100\n",
    "        print (\"A = {0:1.6f} R = {2:1.6f} T = {1:1.6f}\\n\".format(A[0], T[0], R[0]))\n",
    "    "
   ]
  },
  {
   "cell_type": "code",
   "execution_count": null,
   "metadata": {
    "collapsed": true
   },
   "outputs": [],
   "source": [
    "A = []\n",
    "R = []\n",
    "T = []"
   ]
  },
  {
   "cell_type": "code",
   "execution_count": null,
   "metadata": {
    "collapsed": true
   },
   "outputs": [],
   "source": [
    "def sqrtmap(x):\n",
    "    y = x[0]**0.5\n",
    "    return [x[0]**0.5, x[1]/(2*y),  x[2]/(2*y)]"
   ]
  },
  {
   "cell_type": "code",
   "execution_count": null,
   "metadata": {
    "collapsed": false
   },
   "outputs": [],
   "source": [
    "keys = ['150GHz/Xpol/', '150GHz/Ypol/', '95GHz/Xpol/', '95GHz/Ypol/' ]\n",
    "for key in keys:\n",
    "    print (key)\n",
    "    A += [grp[key  +'A_mcmc'][...]]\n",
    "    R += [grp[key  +'R_mcmc'][...]]\n",
    "    T += [grp[key  +'T_mcmc'][...]]\n",
    "\n",
    "# A = map(sqrtmap, A) \n",
    "# R = map(sqrtmap, R) \n",
    "# T = map(sqrtmap, T) \n",
    "A = np.array(A)*100\n",
    "R = np.array(R)*100\n",
    "T = np.array(T)*100\n",
    "A[np.isnan(A)] = 0"
   ]
  },
  {
   "cell_type": "code",
   "execution_count": null,
   "metadata": {
    "collapsed": false
   },
   "outputs": [],
   "source": [
    "A[::2, 0]"
   ]
  },
  {
   "cell_type": "code",
   "execution_count": null,
   "metadata": {
    "collapsed": false
   },
   "outputs": [],
   "source": [
    "fig, ax = plt.subplots(figsize=(15,10))\n",
    "ax.errorbar([150, 95], A[::2, 0],yerr=[A[::2, 1], A[::2, 2]], fmt='r.-', label='Xpol', markersize=15)\n",
    "ax.errorbar([150, 95], A[1::2, 0],yerr=[A[1::2, 1], A[1::2, 2]], fmt='b.-', label='Ypol', markersize=15)\n",
    "ax.grid(which='both',axis='both')\n",
    "ax.set_xticks([95, 150, 220])\n",
    "ax.set_xticklabels(['95', '150', '220'])\n",
    "ax.set_yticklabels(['{0:1.4f}'.format(t) for t in ax.get_yticks()])\n",
    "ax.set_xlabel(r'Frequency [GHz]')\n",
    "ax.set_ylabel(r'Absorption of Etalon[\\%]')\n",
    "ax.set_title(r'15-02 6 microns PP/PE in 605-606 etalon')\n",
    "ax.legend(loc='best');\n",
    "plt.savefig('18-01-2_Absorption.png')"
   ]
  },
  {
   "cell_type": "code",
   "execution_count": null,
   "metadata": {
    "collapsed": false
   },
   "outputs": [],
   "source": [
    "fig, ax = plt.subplots(figsize=(15,10))\n",
    "ax.errorbar([150, 95], R[::2, 0],yerr=[R[::2, 1], R[::2, 2]], fmt='r.-', label='Xpol', markersize=15)\n",
    "ax.errorbar([150, 95], R[1::2, 0],yerr=[R[1::2, 1], R[1::2, 2]], fmt='b.-', label='Ypol', markersize=15)\n",
    "ax.grid(which='both',axis='both')\n",
    "ax.set_xticks([95, 150, 220])\n",
    "ax.set_xticklabels(['95', '150', '220'])\n",
    "ax.set_yticklabels(['{0:1.4f}'.format(t) for t in ax.get_yticks()])\n",
    "ax.set_xlabel(r'Frequency [GHz]')\n",
    "ax.set_ylabel(r'Reflection of Etalon [\\%]')\n",
    "ax.set_title(r'15-02 6 microns PP/PE in 605-606 etalon')\n",
    "ax.legend(loc='best');\n",
    "plt.savefig('15-02_Reflection.png')"
   ]
  },
  {
   "cell_type": "code",
   "execution_count": null,
   "metadata": {
    "collapsed": false
   },
   "outputs": [],
   "source": [
    "fig, ax = plt.subplots(figsize=(15,10))\n",
    "ax.errorbar([150, 95], T[::2, 0],yerr=[T[::2, 1], T[::2, 2]], fmt='r.-', label='Xpol', markersize=15)\n",
    "ax.errorbar([150, 95], T[1::2, 0],yerr=[T[1::2, 1], T[1::2, 2]], fmt='b.-', label='Ypol', markersize=15)\n",
    "ax.grid(which='both',axis='both')\n",
    "ax.set_xticks([95, 150, 220])\n",
    "ax.set_xticklabels(['95', '150', '220'])\n",
    "ax.set_yticklabels(['{0:1.4f}'.format(t) for t in ax.get_yticks()])\n",
    "ax.set_xlabel(r'Frequency [GHz]')\n",
    "ax.set_ylabel(r'Transmission of Etalon [\\%]')\n",
    "ax.set_title(r'15-02 6 microns PP/PE in 605-606 etalon')\n",
    "ax.legend(loc='best');\n",
    "plt.savefig('15-02_Transmission.png')"
   ]
  },
  {
   "cell_type": "code",
   "execution_count": null,
   "metadata": {
    "collapsed": false
   },
   "outputs": [],
   "source": [
    "print (FTSres['612-613/150GHz/Xpol/A_mcmc'][...]*100)\n",
    "print (FTSres['612-613/150GHz/Xpol/R_mcmc'][...]*100)\n",
    "print (FTSres['612-613/150GHz/Xpol/T_mcmc'][...]*100)"
   ]
  },
  {
   "cell_type": "code",
   "execution_count": null,
   "metadata": {
    "collapsed": false
   },
   "outputs": [],
   "source": [
    "print (FTSres['612-613/150GHz/Ypol/A_mcmc'][...]*100)\n",
    "print (FTSres['612-613/150GHz/Ypol/R_mcmc'][...]*100)\n",
    "print (FTSres['612-613/150GHz/Ypol/T_mcmc'][...]*100)"
   ]
  },
  {
   "cell_type": "code",
   "execution_count": null,
   "metadata": {
    "collapsed": true
   },
   "outputs": [],
   "source": []
  }
 ],
 "metadata": {
  "kernelspec": {
   "display_name": "Python 2",
   "language": "python",
   "name": "python2"
  },
  "language_info": {
   "codemirror_mode": {
    "name": "ipython",
    "version": 2
   },
   "file_extension": ".py",
   "mimetype": "text/x-python",
   "name": "python",
   "nbconvert_exporter": "python",
   "pygments_lexer": "ipython2",
   "version": "2.7.10"
  }
 },
 "nbformat": 4,
 "nbformat_minor": 0
}
