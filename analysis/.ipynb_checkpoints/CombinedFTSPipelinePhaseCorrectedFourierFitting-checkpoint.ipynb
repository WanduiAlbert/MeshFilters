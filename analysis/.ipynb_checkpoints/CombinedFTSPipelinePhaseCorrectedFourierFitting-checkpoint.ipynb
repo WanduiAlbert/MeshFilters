{
 "cells": [
  {
   "cell_type": "code",
   "execution_count": null,
   "metadata": {
    "collapsed": true
   },
   "outputs": [],
   "source": [
    "import numpy as np\n",
    "import matplotlib.pyplot as plt\n",
    "%matplotlib inline\n",
    "from glob import glob\n",
    "from astropy.constants import c\n",
    "from scipy.fftpack import fft, fftfreq\n",
    "c = c.value*1e-6 #Speed of light in mm/ns\n",
    "from scipy.interpolate import interp1d\n",
    "from scipy.optimize import curve_fit\n",
    "import matplotlib.mlab as mlab\n",
    "import scipy.optimize as op\n",
    "from scipy.integrate import simps\n",
    "import emcee\n",
    "import corner\n",
    "import h5py"
   ]
  },
  {
   "cell_type": "code",
   "execution_count": null,
   "metadata": {
    "collapsed": false
   },
   "outputs": [],
   "source": [
    "hdf5_name = '/Ade/95/'\n",
    "save_name = 'Ade_95_'\n",
    "datadir = '../data/Ade Filter 95GHz /'\n",
    "files = glob(datadir + '*.txt') \n",
    "no_sample_one_arm_scans = range(0,7,2)# [0,1,2]\n",
    "sample_one_arm_scans = range(1,7,2)# [0,1,2]\n",
    "no_sample_scans = range(7, len(files),2)\n",
    "sample_scans = range(8, len(files),2)"
   ]
  },
  {
   "cell_type": "code",
   "execution_count": null,
   "metadata": {
    "collapsed": false
   },
   "outputs": [],
   "source": [
    "# Now we can load all of the data\n",
    "scans = dict()\n",
    "scans['L'] = 4.0#3.25*25.4 # thickness of the etalon in mm\n",
    "scans['no-sample'] = dict()\n",
    "scans['sample'] = dict()\n",
    "scans['no-sample']['one-arm'] = dict()\n",
    "scans['sample']['one-arm'] = dict()\n",
    "\n",
    "scans_signal = []\n",
    "scans_encoder = []\n",
    "for i, f in enumerate(files):\n",
    "    index, time, encoder, signal = np.loadtxt(f, comments='#', skiprows=24, unpack=True)\n",
    "    scans_signal += [signal]\n",
    "    scans_encoder += [encoder]\n",
    "    print \"Finished loading file %d\"%i\n",
    "    \n",
    "\n",
    "scans_signal = np.array(scans_signal)\n",
    "scans_encoder = np.array(scans_encoder)\n",
    "scans['no-sample']['one-arm']['signal'] = scans_signal[no_sample_one_arm_scans]\n",
    "scans['no-sample']['one-arm']['encoder'] = scans_encoder[no_sample_one_arm_scans]\n",
    "scans['sample']['one-arm']['signal'] = scans_signal[sample_one_arm_scans]\n",
    "scans['sample']['one-arm']['encoder'] = scans_encoder[sample_one_arm_scans]\n",
    "scans['no-sample']['signal'] = scans_signal[no_sample_scans]\n",
    "scans['sample']['signal'] = scans_signal[sample_scans]\n",
    "scans['no-sample']['encoder'] = scans_encoder[no_sample_scans]\n",
    "scans['sample']['encoder'] = scans_encoder[sample_scans]"
   ]
  },
  {
   "cell_type": "code",
   "execution_count": null,
   "metadata": {
    "collapsed": false
   },
   "outputs": [],
   "source": [
    "i = 0\n",
    "fig, ax = plt.subplots(figsize=(15,10))\n",
    "ax.plot(scans['no-sample']['encoder'][i], scans['no-sample']['signal'][i]);\n",
    "ax.axis('tight');\n",
    "plt.savefig(save_name + 'raw_interferogram.png')"
   ]
  },
  {
   "cell_type": "code",
   "execution_count": null,
   "metadata": {
    "collapsed": false
   },
   "outputs": [],
   "source": [
    "scans['no-sample']['one-arm']['signal-averaged'] = np.average(scans['no-sample']['one-arm']['signal'], axis=0)\n",
    "scans['no-sample']['one-arm']['encoder-averaged'] = np.average(scans['no-sample']['one-arm']['encoder'], axis=0)\n",
    "\n",
    "scans['sample']['one-arm']['signal-averaged'] = np.average(scans['sample']['one-arm']['signal'], axis=0)\n",
    "scans['sample']['one-arm']['encoder-averaged'] = np.average(scans['sample']['one-arm']['encoder'], axis=0)\n",
    "\n",
    "fig, ax = plt.subplots(figsize=(15,10))\n",
    "ax.plot(scans['no-sample']['one-arm']['encoder-averaged'], scans['no-sample']['one-arm']['signal-averaged']);\n",
    "ax.axis('tight');"
   ]
  },
  {
   "cell_type": "code",
   "execution_count": null,
   "metadata": {
    "collapsed": false
   },
   "outputs": [],
   "source": [
    "N = scans['no-sample']['signal'].shape[0]\n",
    "print scans['no-sample']['signal'].shape[1]\n",
    "signal_driftcorr = []\n",
    "encoder_driftcorr = []\n",
    "for i in xrange(N):\n",
    "#     driftcorr = scans['no-sample']['signal'][i]\n",
    "    driftcorr = (scans['no-sample']['signal'][i] - scans['no-sample']['one-arm']['signal-averaged'])\n",
    "#     driftcorr /= np.sqrt(scans['one-arm']['signal-averaged'])\n",
    "    driftcorr -= np.average(driftcorr)\n",
    "#     peak = scans['no-sample']['encoder'][i][np.where(driftcorr == max(driftcorr))[0]][0]\n",
    "#     thresh = np.logical_and(scans['no-sample']['encoder'][i] > (peak - 1.5), scans['no-sample']['encoder'][i] < (peak + 1.5))\n",
    "#     Nmask = 400\n",
    "#     mask = np.ones(Nmask)\n",
    "#     avg = np.convolve(driftcorr, mask, 'same')/Nmask\n",
    "#     driftcorr = driftcorr[thresh] - avg[thresh]\n",
    "    signal_driftcorr += [driftcorr]\n",
    "    encoder_driftcorr += [scans['no-sample']['encoder'][i]]\n",
    "#     encoder_driftcorr += [scans['no-sample']['encoder'][i][thresh]]\n",
    "\n",
    "scans['no-sample']['encoder-driftcorrected'] = np.array(encoder_driftcorr)\n",
    "scans['no-sample']['signal-driftcorrected'] = np.array(signal_driftcorr)\n",
    "scans['no-sample']['signal-averaged'] = np.average(signal_driftcorr, axis=0)"
   ]
  },
  {
   "cell_type": "code",
   "execution_count": null,
   "metadata": {
    "collapsed": false
   },
   "outputs": [],
   "source": [
    "i = 1\n",
    "fig, ax = plt.subplots(figsize=(15,10))\n",
    "ax.plot(scans['no-sample']['encoder-driftcorrected'][i], scans['no-sample']['signal-driftcorrected'][i]);\n",
    "ax.axis('tight');\n",
    "mydata = np.c_[scans['no-sample']['encoder-driftcorrected'][i], scans['no-sample']['signal-driftcorrected'][i]]\n",
    "np.savetxt('f.txt', mydata, '%10s')\n",
    "plt.savefig(save_name + 'driftcorrected_interferogram.png')"
   ]
  },
  {
   "cell_type": "code",
   "execution_count": null,
   "metadata": {
    "collapsed": false
   },
   "outputs": [],
   "source": [
    "N = scans['sample']['signal'].shape[0]\n",
    "signal_driftcorr = []\n",
    "encoder_driftcorr = []\n",
    "for i in xrange(N):\n",
    "#     driftcorr = scans['sample']['signal'][i]\n",
    "    driftcorr = (scans['sample']['signal'][i] - scans['sample']['one-arm']['signal-averaged'])\n",
    "    driftcorr -= np.average(driftcorr)\n",
    "#     peak = scans['sample']['encoder'][i][np.where(driftcorr == max(driftcorr))[0]][0]\n",
    "#     thresh = np.logical_and(scans['sample']['encoder'][i] > (peak - 1.5), scans['sample']['encoder'][i] < (peak + 1.5))\n",
    "#     Nmask = 400\n",
    "#     mask = np.ones(Nmask)\n",
    "#     avg = np.convolve(driftcorr, mask, 'same')/Nmask\n",
    "#     driftcorr = driftcorr[thresh] - avg[thresh]\n",
    "    signal_driftcorr += [driftcorr]\n",
    "    encoder_driftcorr += [scans['sample']['encoder'][i]]\n",
    "#     encoder_driftcorr += [scans['no-sample']['encoder'][i][thresh]]\n",
    "    \n",
    "scans['sample']['encoder-driftcorrected'] = np.array(encoder_driftcorr)\n",
    "scans['sample']['signal-driftcorrected'] = np.array(signal_driftcorr)\n",
    "scans['sample']['signal-averaged'] = np.average(signal_driftcorr, axis=0)"
   ]
  },
  {
   "cell_type": "code",
   "execution_count": null,
   "metadata": {
    "collapsed": false
   },
   "outputs": [],
   "source": [
    "# Now lets try and correct for the phase\n",
    "def quadratic(x, A, B, C):\n",
    "    return A*x**2 + B*x + C\n",
    "# function to fit\n",
    "def func(x, A, B, C, D):\n",
    "    return A*(np.sinc(B*x+C))*np.cos(D*x)\n",
    "def envelope(x, A, B, C):\n",
    "    return A*(np.sinc(B*x+C)) "
   ]
  },
  {
   "cell_type": "code",
   "execution_count": null,
   "metadata": {
    "collapsed": false,
    "scrolled": false
   },
   "outputs": [],
   "source": [
    "# First Find the right position of the origin of the interferogram\n",
    "N = scans['no-sample']['signal-driftcorrected'].shape[0]\n",
    "\n",
    "# initial guess for the parameters #\n",
    "# parameter_initial = np.array([1.5e-4,40/c,-51.6,1862.3/c]) #for 150GHz\n",
    "parameter_initial = np.array([1.5e-4,40/c,-51.6,1190./c]) #for 95 GHz\n",
    "for i in range(N):\n",
    "    xdata = scans['no-sample']['encoder-driftcorrected'][i]\n",
    "    ydata = scans['no-sample']['signal-driftcorrected'][i]\n",
    "    mask=np.logical_and(xdata>=381,xdata<=395)\n",
    "    xdata2=xdata[mask] #mask the unwanted data\n",
    "    ydata2=ydata[mask]\n",
    "    \n",
    "#fitting\n",
    "    parameter_optimal, covariance = curve_fit(func, xdata2, ydata2, p0=parameter_initial)\n",
    "    actual_peak = -parameter_optimal[2]/parameter_optimal[1]\n",
    "    print(\"for the scan %d the position of zero p.d is %1.6f\" %(i, actual_peak))\n",
    "# #\n",
    "#     y= envelope(xdata,*parameter_optimal[:-1])\n",
    "    xnew = np.r_[381:395:1000j]\n",
    "    y= func(xnew,*parameter_optimal)\n",
    "    fig, ax = plt.subplots(figsize=(15,10))\n",
    "    ax.plot(xdata, ydata, 'b.-')\n",
    "    ax.plot(xnew, y, 'r-')\n",
    "#     ax.plot(xdata, -y, 'r-')\n",
    "    ax.grid(which='major')\n",
    "    ax.set_xlim(381,395)\n",
    "    \n",
    "    scans['no-sample']['encoder-driftcorrected'][i] -= actual_peak\n",
    "    scans['no-sample']['encoder-driftcorrected'][i] *= (2/c) # Encoder now represents the path length difference\n",
    "plt.savefig(save_name + 'no-sample_peakmatching.png')"
   ]
  },
  {
   "cell_type": "code",
   "execution_count": null,
   "metadata": {
    "collapsed": false,
    "scrolled": false
   },
   "outputs": [],
   "source": [
    "# First Find the right position of the origin of the interferogram\n",
    "N = scans['sample']['signal-driftcorrected'].shape[0]\n",
    "\n",
    "# initial guess for the parameters #\n",
    "# parameter_initial = np.array([1.5e-4,40/c,-51.6,1862.3/c]) #for 150GHz\n",
    "parameter_initial = np.array([1.5e-4,40/c,-51.6,1190./c]) #for 95 GHz\n",
    "for i in range(N):\n",
    "    xdata = scans['sample']['encoder-driftcorrected'][i]\n",
    "    ydata = scans['sample']['signal-driftcorrected'][i]\n",
    "    mask=np.logical_and(xdata>=381,xdata<=395)\n",
    "    xdata2=xdata[mask] #mask the unwanted data\n",
    "    ydata2=ydata[mask]\n",
    "    \n",
    "#fitting\n",
    "    parameter_optimal, covariance = curve_fit(func, xdata2, ydata2, p0=parameter_initial)\n",
    "    actual_peak = -parameter_optimal[2]/parameter_optimal[1]\n",
    "    print(\"for the scan %d the position of zero p.d is %1.6f\" %(i, actual_peak))\n",
    "# #\n",
    "#     y= envelope(xdata,*parameter_optimal[:-1])\n",
    "    xnew = np.r_[381:395:1000j]\n",
    "    y= func(xnew,*parameter_optimal)\n",
    "    fig, ax = plt.subplots(figsize=(15,10))\n",
    "    ax.plot(xdata, ydata, 'b.-')\n",
    "    ax.plot(xnew, y, 'r-')\n",
    "#     ax.plot(xdata, -y, 'r-')\n",
    "    ax.grid(which='major')\n",
    "    ax.set_xlim(381,395)\n",
    "    \n",
    "    scans['sample']['encoder-driftcorrected'][i] -= actual_peak\n",
    "    scans['sample']['encoder-driftcorrected'][i] *= (2/c) # Encoder now represents the path length difference"
   ]
  },
  {
   "cell_type": "code",
   "execution_count": null,
   "metadata": {
    "collapsed": false
   },
   "outputs": [],
   "source": [
    "i = 2\n",
    "fig, ax = plt.subplots(figsize=(15,10))\n",
    "ax.plot(scans['sample']['encoder-driftcorrected'][i], scans['sample']['signal-driftcorrected'][i]);\n",
    "ax.axis('tight');\n",
    "# ax.set_xlim(-0.2, 0.2)\n",
    "plt.savefig(save_name + 'peakcorrected-interferogram.png')"
   ]
  },
  {
   "cell_type": "code",
   "execution_count": null,
   "metadata": {
    "collapsed": false
   },
   "outputs": [],
   "source": [
    "# For each of the scans, we will be resampling the data to ensure that the points are evenly spaced.\n",
    "# I will resample to an array of length 2**n such that the data point at 2**(n-1) is the one \n",
    "# of zero path difference. The array is circularly symmetric as best, meaning that x[n] == x[-n]. \n",
    "n = 15\n",
    "k = 10.0\n",
    "m = k*2**(1 - n)\n",
    "# m = 2*k/(2**n - 1)\n",
    "encoder_new = m*np.arange(0, 2**n + 1) - k\n",
    "scans['encoder-resampled'] = encoder_new[:-1]\n",
    "print len(scans['encoder-resampled'])"
   ]
  },
  {
   "cell_type": "code",
   "execution_count": null,
   "metadata": {
    "collapsed": false
   },
   "outputs": [],
   "source": [
    "N = scans['no-sample']['signal'].shape[0]\n",
    "signal_new = []\n",
    "for i in xrange(N):\n",
    "    f = interp1d(scans['no-sample']['encoder-driftcorrected'][i], scans['no-sample']['signal-driftcorrected'][i],\\\n",
    "                 kind='cubic', bounds_error=False, fill_value=0.0)\n",
    "    signal_new += [f(scans['encoder-resampled'])]\n",
    "    print \"Finished working on the %d scan\" %i\n",
    "scans['no-sample']['signal-resampled'] = np.array(signal_new)"
   ]
  },
  {
   "cell_type": "code",
   "execution_count": null,
   "metadata": {
    "collapsed": false
   },
   "outputs": [],
   "source": [
    "N = scans['sample']['signal'].shape[0]\n",
    "signal_new = []\n",
    "for i in xrange(N):\n",
    "    f = interp1d(scans['sample']['encoder-driftcorrected'][i], scans['sample']['signal-driftcorrected'][i],\\\n",
    "                 kind='cubic', bounds_error=False, fill_value=0.0)\n",
    "    signal_new += [f(scans['encoder-resampled'])]\n",
    "    print \"Finished working on the %d scan\" %i\n",
    "scans['sample']['signal-resampled'] = np.array(signal_new)"
   ]
  },
  {
   "cell_type": "code",
   "execution_count": null,
   "metadata": {
    "collapsed": false
   },
   "outputs": [],
   "source": [
    "i = 3\n",
    "fig, ax = plt.subplots(figsize=(15,10))\n",
    "ax.plot(scans['encoder-resampled'], (scans['no-sample']['signal-resampled'][i]), 'r');\n",
    "ax.plot(scans['no-sample']['encoder-driftcorrected'][i], (scans['no-sample']['signal-driftcorrected'][i]), 'b');\n",
    "ax.set_xlabel('Path Difference [ns]')\n",
    "plt.savefig(save_name + 'zeropadded-interferogram.png')"
   ]
  },
  {
   "cell_type": "code",
   "execution_count": null,
   "metadata": {
    "collapsed": false
   },
   "outputs": [],
   "source": [
    "N = scans['no-sample']['signal'].shape[0]\n",
    "dx = (scans['encoder-resampled'][1] - scans['encoder-resampled'][0])\n",
    "ffts = []\n",
    "scans['k'] = fftfreq(len(scans['no-sample']['signal-resampled'][0]), dx)\n",
    "for i in xrange(N):\n",
    "    y = fft((scans['no-sample']['signal-resampled'][i]))\n",
    "    Ny = len(y)\n",
    "    ffts += [y]\n",
    "scans['no-sample']['signal-fft'] = np.array(ffts)\n",
    "\n",
    "# ------ Use this part when you don't want to use the interpolated data ------------ #\n",
    "# N = scans['no-sample']['signal'].shape[0]\n",
    "\n",
    "# ffts = []\n",
    "# k = [] \n",
    "# for i in xrange(N):\n",
    "#     y = fft((scans['no-sample']['signal-driftcorrected'][i]))\n",
    "#     dx = np.mean(np.diff(scans['no-sample']['encoder-driftcorrected'][i]))\n",
    "#     Ny = len(y)\n",
    "#     ffts += [y]\n",
    "#     k += [fftfreq(Ny, dx)]\n",
    "# scans['no-sample']['k'] = np.array(k)\n",
    "# scans['no-sample']['signal-fft'] = np.array(ffts)"
   ]
  },
  {
   "cell_type": "code",
   "execution_count": null,
   "metadata": {
    "collapsed": false,
    "scrolled": false
   },
   "outputs": [],
   "source": [
    "i = 3\n",
    "fig, ax = plt.subplots(figsize=(15,10))\n",
    "# scans['thresh'] = np.logical_and(scans['k'] >= 138, scans['k'] <= 160) #For 150 GHz\n",
    "scans['thresh'] = np.logical_and(scans['k'] >= 89, scans['k'] <= 100.5) #For 95 GHz\n",
    "ax.plot(scans['k'][scans['thresh']], np.real(scans['no-sample']['signal-fft'][i])[scans['thresh']]);\n",
    "ax.set_xlabel('Frequency [GHz]')\n",
    "ax.axis('tight');\n",
    "\n",
    "# ------ Use this part when you don't want to use the interpolated data ------------ #\n",
    "# scans['thresh'] = np.logical_and(scans['no-sample']['k'][i] >= 130, scans['no-sample']['k'][i] <= 170)\n",
    "\n",
    "# ax.plot(scans['no-sample']['k'][i][scans['thresh']], np.abs(scans['no-sample']['signal-fft'][i])[scans['thresh']]);\n",
    "# ax.axis('tight');"
   ]
  },
  {
   "cell_type": "code",
   "execution_count": null,
   "metadata": {
    "collapsed": false
   },
   "outputs": [],
   "source": [
    "N = scans['sample']['signal'].shape[0]\n",
    "dx = (scans['encoder-resampled'][1] - scans['encoder-resampled'][0])\n",
    "ffts = []\n",
    "for i in xrange(N):\n",
    "    y = fft((scans['sample']['signal-resampled'][i]))\n",
    "    Ny = len(y)\n",
    "    ffts += [y]\n",
    "scans['sample']['signal-fft'] = np.array(ffts)\n",
    "\n",
    "# ------ Use this part when you don't want to use the interpolated data ------------ #\n",
    "# N = scans['sample']['signal'].shape[0]\n",
    "\n",
    "# ffts = []\n",
    "# k = [] \n",
    "# for i in xrange(N):\n",
    "#     y = fft((scans['sample']['signal-driftcorrected'][i]))\n",
    "#     dx = np.mean(np.diff(scans['sample']['encoder-driftcorrected'][i]))\n",
    "#     Ny = len(y)\n",
    "#     ffts += [y]\n",
    "#     k += [fftfreq(Ny, dx)]\n",
    "# scans['sample']['k'] = np.array(k)\n",
    "# scans['sample']['signal-fft'] = np.array(ffts)"
   ]
  },
  {
   "cell_type": "code",
   "execution_count": null,
   "metadata": {
    "collapsed": false
   },
   "outputs": [],
   "source": [
    "i = 0\n",
    "fig, ax = plt.subplots(figsize=(15,10))\n",
    "# scans['thresh'] = np.logical_and(scans['k'] >= 130, scans['k'] <= 170)\n",
    "ax.plot(scans['k'][scans['thresh']], np.real(scans['no-sample']['signal-fft'][i])[scans['thresh']]);\n",
    "ax.axis('tight');\n",
    "ax.set_xlabel('Frequency [GHz]')\n",
    "\n",
    "# ------ Use this part when you don't want to use the interpolated data ------------ #\n",
    "# scans['thresh'] = np.logical_and(scans['sample']['k'][i] >= 130, scans['sample']['k'][i] <= 170)\n",
    "\n",
    "# ax.plot(scans['sample']['k'][i][scans['thresh']], np.abs(scans['sample']['signal-fft'][i])[scans['thresh']]);\n",
    "# ax.axis('tight');"
   ]
  },
  {
   "cell_type": "code",
   "execution_count": null,
   "metadata": {
    "collapsed": false
   },
   "outputs": [],
   "source": [
    "scans['no-sample']['fft-averaged'] = np.mean(np.real(scans['no-sample']['signal-fft']), axis=0)\n",
    "scans['no-sample']['fft-error'] = np.std(np.real(scans['no-sample']['signal-fft']), axis=0)\n",
    "scans['sample']['fft-averaged'] = np.mean(np.real(scans['sample']['signal-fft']), axis=0)\n",
    "scans['sample']['fft-error'] = np.std(np.real(scans['sample']['signal-fft']), axis=0)"
   ]
  },
  {
   "cell_type": "code",
   "execution_count": null,
   "metadata": {
    "collapsed": false
   },
   "outputs": [],
   "source": [
    "fig, ax = plt.subplots(figsize=(15,10))\n",
    "N = scans['no-sample']['signal'].shape[0]\n",
    "for i in xrange(N):\n",
    "    pltlabel = r'%d' %i\n",
    "    ax.plot(scans['k'][scans['thresh']][::2],\\\n",
    "            np.real(scans['no-sample']['signal-fft'][i])[scans['thresh']][::2], label=pltlabel)\n",
    "ax.errorbar(scans['k'][scans['thresh']][::2],\\\n",
    "            (scans['no-sample']['fft-averaged'])[scans['thresh']][::2],\\\n",
    "            yerr = (scans['no-sample']['fft-error'])[scans['thresh']][::2], label=\"average\",\\\n",
    "           fmt='-', ecolor='k', color='k')\n",
    "ax.legend(loc='best');\n",
    "ax.axis('tight');\n",
    "ax.set_xlabel('Frequency [GHz]')\n",
    "plt.savefig(save_name + 'no-sample_fft.png')"
   ]
  },
  {
   "cell_type": "code",
   "execution_count": null,
   "metadata": {
    "collapsed": false
   },
   "outputs": [],
   "source": [
    "fig, ax = plt.subplots(figsize=(15,10))\n",
    "N = scans['sample']['signal'].shape[0]\n",
    "for i in xrange(N):\n",
    "    pltlabel = r'%d' %i\n",
    "    ax.plot(scans['k'][scans['thresh']][::2], np.real(scans['sample']['signal-fft'][i])[scans['thresh']][::2], label=pltlabel)\n",
    "ax.errorbar(scans['k'][scans['thresh']][::2], (scans['sample']['fft-averaged'])[scans['thresh']][::2],\\\n",
    "            yerr = (scans['sample']['fft-error'])[scans['thresh']][::2], label=\"average\",\\\n",
    "           fmt='-', ecolor='k', color='blue')\n",
    "ax.legend(loc='best');\n",
    "ax.axis('tight');\n",
    "ax.set_xlabel('Frequency [GHz]')\n",
    "plt.savefig(save_name + 'sample_fft.png')"
   ]
  },
  {
   "cell_type": "code",
   "execution_count": null,
   "metadata": {
    "collapsed": false
   },
   "outputs": [],
   "source": [
    "scans['sample']['relative-error'] = np.real(scans['sample']['fft-error'])/np.real(scans['sample']['fft-averaged'])\n",
    "scans['no-sample']['relative-error'] = np.real(scans['no-sample']['fft-error'])/np.real(scans['no-sample']['fft-averaged'])\n",
    "fig, ax = plt.subplots(figsize=(15,10))\n",
    "\n",
    "ax.plot(scans['k'][scans['thresh']][::2], scans['sample']['relative-error'][scans['thresh']][::2], label='Sample')\n",
    "ax.plot(scans['k'][scans['thresh']][::2], scans['no-sample']['relative-error'][scans['thresh']][::2], label='No Sample')\n",
    "ax.legend(loc='best');\n",
    "ax.axis('tight');\n",
    "ax.set_xlabel('Frequency [GHz]')\n",
    "plt.savefig(save_name + 'relative_error.png')"
   ]
  },
  {
   "cell_type": "code",
   "execution_count": null,
   "metadata": {
    "collapsed": false
   },
   "outputs": [],
   "source": [
    "i = 2\n",
    "fig, ax = plt.subplots(figsize=(15,10))\n",
    "ax.plot(scans['k'][scans['thresh']][::2], np.real(scans['no-sample']['fft-averaged'][scans['thresh']][::2]), 'k', label='no sample')\n",
    "ax.plot(scans['k'][scans['thresh']][::2], np.real(scans['sample']['fft-averaged'][scans['thresh']][::2]), 'r', label='sample');\n",
    "ax.set_xlabel('Frequency [GHz]')\n",
    "ax.set_ylabel('Amplitude');\n",
    "ax.legend(loc='best');\n",
    "ax.axis('tight');\n",
    "ax.set_xlabel('Frequency [GHz]')\n",
    "plt.savefig(save_name + 'no-sample_vs_sample_fft.png')"
   ]
  },
  {
   "cell_type": "code",
   "execution_count": null,
   "metadata": {
    "collapsed": false
   },
   "outputs": [],
   "source": [
    "scans['ratio'] = np.real(scans['sample']['fft-averaged'])/np.real(scans['no-sample']['fft-averaged'])\n",
    "scans['ratio-error'] = scans['ratio']*\\\n",
    "np.sqrt((scans['sample']['relative-error'])**2 + \\\n",
    "        (scans['no-sample']['relative-error'])**2 )"
   ]
  },
  {
   "cell_type": "code",
   "execution_count": null,
   "metadata": {
    "collapsed": false
   },
   "outputs": [],
   "source": [
    "fig, ax = plt.subplots(figsize=(15,10))\n",
    "ax.errorbar(scans['k'][scans['thresh']][::2], scans['ratio'][scans['thresh']][::2],\\\n",
    "            yerr=scans['ratio-error'][scans['thresh']][::2], fmt='b-', ecolor='b');\n",
    "kmin = scans['k'][scans['thresh']][0]\n",
    "kmax = scans['k'][scans['thresh']][-1]\n",
    "# ax.plot(scans['k'][scans['thresh']], scans['ratio'][scans['thresh']]);\n",
    "ax.hlines(1.0, kmin, kmax, colors='k', linestyles='solid');\n",
    "ax.axis('tight');\n",
    "ax.set_xlabel('Frequency [GHz]')\n",
    "plt.savefig(save_name + 'fringes_with_ebars.png')"
   ]
  },
  {
   "cell_type": "markdown",
   "metadata": {},
   "source": [
    "In this version of the fit program, I will use an n-term fourier model to fit the data. Hope this works!"
   ]
  },
  {
   "cell_type": "code",
   "execution_count": null,
   "metadata": {
    "collapsed": false
   },
   "outputs": [],
   "source": [
    "def transmissionModel(nu, *theta):\n",
    "    # Fits for the first n terms of a fourier series for a period equal to 1.\n",
    "    \"\"\"\n",
    "    Returns the n term fourier series expansion of a function which has a period of 1 in x and has the fourier\n",
    "    coefficients listed in theta. The last component of theta is a the fundamental period of the oscillations.\n",
    "    \"\"\"\n",
    "    assert (len(theta)%2)==0, \"The length of theta must be even\"\n",
    "    n = len(theta)/2 - 1# Remember n isn't the length of the array.It is the number of terms in the fourier expansion.\n",
    "#     b0 = theta[0]\n",
    "#     c_k = theta[1:n+1] - to get n terms!!!!\n",
    "#     s_k = theta[n+1:] - to get n terms!!!!\n",
    "    # Lambda functions for each term in the fourier series\n",
    "    fsr = theta[-1]\n",
    "    c_k = theta[1:n+1]\n",
    "    s_k = theta[n+1:-1]\n",
    "    x = nu/fsr\n",
    "    index = np.arange(1,n+1)\n",
    "    fourier_cterm = lambda ck, k: ck*np.cos(2*np.pi*x*k)\n",
    "    fourier_sterm = lambda sk, k: sk*np.sin(2*np.pi*x*k)\n",
    "    \n",
    "    return theta[0] + np.sum(map(fourier_cterm, c_k, index),axis=0)+\\\n",
    "    np.sum(map(fourier_sterm, s_k, index),axis=0)\n",
    "\n",
    "def lnlike(theta, x, y, yerr):\n",
    "    model = transmissionModel(x, *theta)\n",
    "    inv_sigma2 = 1.0/(yerr**2)\n",
    "    return -0.5*(np.sum((y-model)**2*inv_sigma2))"
   ]
  },
  {
   "cell_type": "code",
   "execution_count": null,
   "metadata": {
    "collapsed": false
   },
   "outputs": [],
   "source": [
    "# Initializing the parameters\n",
    "n = 8\n",
    "R = 0.01\n",
    "fsr =c/(2*scans['L'])\n",
    "T = 0.989\n",
    "b0 = (T/(1-R))**2*((1-R)/(1+R))\n",
    "print fsr\n",
    "index = np.arange(1,n+1)\n",
    "b_k = 2*R**index*b0\n",
    "c_k = -b_k/2\n",
    "s_k = -b_k/2#[0]*n\n",
    "guesses = [b0] +list(c_k) + list(s_k) + [fsr]\n",
    "# guesses[-1] = b0\n",
    "\n",
    "# guesses = list(np.loadtxt('fit_coefficients.txt'))\n",
    "# guesses[-1] = 2*np.pi/guesses[-1] # I fit for the period. Matlab fits for the frequency. \n",
    "\n",
    "b0_guess = guesses[0]\n",
    "bk_guess = (np.array(guesses)[1:n+1]**2 + np.array(guesses)[n+1:-1]**2)**0.5"
   ]
  },
  {
   "cell_type": "code",
   "execution_count": null,
   "metadata": {
    "collapsed": false
   },
   "outputs": [],
   "source": [
    "# scans['fit-thresh'] = np.logical_and(scans['k']/fsr >= int(140/fsr)+1, scans['k']/fsr <= int(160/fsr)-1) #For 150 GHz\n",
    "scans['fit-thresh'] = np.logical_and(scans['k']/fsr >= int(90/fsr)+1, scans['k']/fsr <= int(100/fsr)-1) #For 95 GHz\n",
    "print np.sum(scans['fit-thresh'])"
   ]
  },
  {
   "cell_type": "code",
   "execution_count": null,
   "metadata": {
    "collapsed": false
   },
   "outputs": [],
   "source": [
    "datasavename = save_name + '_FPfringes.txt'\n",
    "f = file(datasavename, 'w')\n",
    "header = 'frequency transmission sigma'\n",
    "fmt = '%-1.8e %-1.8e %-1.8e'\n",
    "dataset = np.c_[scans['k'][scans['fit-thresh']], scans['ratio'][scans['fit-thresh']], scans['ratio-error'][scans['fit-thresh']]]\n",
    "np.savetxt(f, dataset, header=header, fmt=fmt)"
   ]
  },
  {
   "cell_type": "code",
   "execution_count": null,
   "metadata": {
    "collapsed": false
   },
   "outputs": [],
   "source": [
    "# popt, pcov = curve_fit(transmissionModel, scans['k'][scans['fit-thresh']],\\\n",
    "#                            scans['ratio'][scans['fit-thresh']], p0=guesses,\\\n",
    "#                            sigma=scans['ratio-error'][scans['fit-thresh']])\n",
    "# #                       bounds=([0, 0, 0.0*scans['L'], 0.0],[1, 1, 2.0*scans['L'], 2*np.pi]))\n",
    "# b0_cf = popt[0]\n",
    "# bk_cf = (popt[1:n+1]**2 + popt[n+1:]**2)**0.5"
   ]
  },
  {
   "cell_type": "code",
   "execution_count": null,
   "metadata": {
    "collapsed": false
   },
   "outputs": [],
   "source": [
    "fig, ax = plt.subplots(figsize=(15,10))\n",
    "\n",
    "ax.errorbar(scans['k'][scans['thresh']][::2], scans['ratio'][scans['thresh']][::2],\\\n",
    "            yerr=scans['ratio-error'][scans['thresh']][::2], fmt='b.-', ecolor='b');\n",
    "\n",
    "ax.plot(scans['k'][scans['thresh']], transmissionModel(scans['k'][scans['thresh']], *guesses), 'r-');\n",
    "ax.axis('tight');\n",
    "ax.grid(which='major')\n",
    "ax.set_xlabel('Frequency [GHz]')\n",
    "plt.savefig(save_name + 'curve-fit_fringes_with_ebars.png')"
   ]
  },
  {
   "cell_type": "code",
   "execution_count": null,
   "metadata": {
    "collapsed": false
   },
   "outputs": [],
   "source": [
    "#Let's see if using the likelihood function will be more useful\n",
    "nll = lambda *args: -lnlike(*args)\n",
    "result = op.minimize(nll, guesses, args=(scans['k'][scans['fit-thresh']], scans['ratio'][scans['fit-thresh']],\\\n",
    "                                         scans['ratio-error'][scans['fit-thresh']]), method='Powell')\n",
    "\n",
    "chisq =  lnlike(result['x'],scans['k'][scans['fit-thresh']],\\\n",
    "             scans['ratio'][scans['fit-thresh']],scans['ratio-error'][scans['fit-thresh']] )\n",
    "print result['message'] + \" Parameters extracted with a chi-squared value of %4.5f\" %chisq\n",
    "scans['chisq'] = chisq\n",
    "\n",
    "b0_MLE = result['x'][0]\n",
    "bk_MLE = (result['x'][1:n+1]**2 + result['x'][n+1:-1]**2)**0.5\n",
    "fsr_MLE = result['x'][-1]\n",
    "phik_MLE = np.arctan2(result['x'][n+1:-1], result['x'][1:n+1])"
   ]
  },
  {
   "cell_type": "code",
   "execution_count": null,
   "metadata": {
    "collapsed": false
   },
   "outputs": [],
   "source": [
    "fig, ax = plt.subplots(figsize=(15,10))\n",
    "\n",
    "ax.errorbar(scans['k'][scans['thresh']][::2], scans['ratio'][scans['thresh']][::2],\\\n",
    "            yerr=scans['ratio-error'][scans['thresh']][::2], fmt='b.-', ecolor='b');\n",
    "\n",
    "ax.plot(scans['k'][scans['thresh']], transmissionModel(scans['k'][scans['thresh']], *result[\"x\"]), 'r-');\n",
    "ax.grid(which='major')\n",
    "ax.axis('tight')\n",
    "ax.set_xlabel('Frequency [GHz]')\n",
    "plt.savefig(save_name + 'minimize_fringes_with_ebars.png')"
   ]
  },
  {
   "cell_type": "code",
   "execution_count": null,
   "metadata": {
    "collapsed": false
   },
   "outputs": [],
   "source": [
    "fig, ax = plt.subplots(figsize=(15,10))\n",
    "# ax.semilogy(k, bk_cf/(2*b0_cf),'rd-', label='Curve Fit')\n",
    "ax.semilogy(index, bk_guess/(2*b0_guess),'bo-', label = 'Guess')\n",
    "ax.semilogy(index, bk_MLE/(2*b0_MLE),'gs-', label='MLE')\n",
    "ax.set_xlabel('k')\n",
    "ax.legend(loc='best')\n",
    "ax.set_ylabel(r'$\\textrm{b}_{\\textrm{k}}$');"
   ]
  },
  {
   "cell_type": "code",
   "execution_count": null,
   "metadata": {
    "collapsed": false
   },
   "outputs": [],
   "source": [
    "# Before we define our prior, we need to compute the total power within the band over which we are \n",
    "# fitting the series\n",
    "Interval = scans['k'][scans['fit-thresh']][-1]- scans['k'][scans['fit-thresh']][0]\n",
    "Energy = simps((scans['ratio'][scans['fit-thresh']])**2,x=scans['k'][scans['fit-thresh']],even='avg')/Interval\n",
    "\n",
    "print Energy"
   ]
  },
  {
   "cell_type": "code",
   "execution_count": null,
   "metadata": {
    "collapsed": false
   },
   "outputs": [],
   "source": [
    "# if 0.0 < R < 1.0 and 0.0 < T < 1.0 and 0.5*scans['L'] < L < 2.0*scans['L'] and -10*np.pi < phi < 10*np.pi :\n",
    "#     return 0.0\n",
    "# else:\n",
    "#     return - np.inf\n",
    "\n",
    "# Set the energy in the band as an upper bound for the energy in the fourier coefficients.\n",
    "def lnprior(theta):\n",
    "    if (np.sum(map(lambda x:x**2, theta[:-1])) <= Energy) :\n",
    "        return 0.0\n",
    "    else:\n",
    "        return -np.inf\n",
    "        \n",
    "def lnprob(theta, x, y, yerr):\n",
    "    lp = lnprior(theta)\n",
    "    if not np.isfinite(lp):\n",
    "        return -np.inf\n",
    "    return lp + lnlike(theta, x, y, yerr)"
   ]
  },
  {
   "cell_type": "code",
   "execution_count": null,
   "metadata": {
    "collapsed": false
   },
   "outputs": [],
   "source": [
    "ndim, nwalkers = (2*n+2), 1000\n",
    "pos = [result[\"x\"] + 1e-3*np.random.randn(ndim) for i in range(nwalkers)]\n",
    "# pos = [popt + 1e-4*np.random.randn(ndim) for i in range(nwalkers)]\n",
    "# pos = [guesses + 1e-4*np.random.randn(ndim) for i in range(nwalkers)]"
   ]
  },
  {
   "cell_type": "code",
   "execution_count": null,
   "metadata": {
    "collapsed": true
   },
   "outputs": [],
   "source": [
    "sampler = emcee.EnsembleSampler(nwalkers, ndim, lnprob, args=(scans['k'][scans['fit-thresh']], scans['ratio'][scans['fit-thresh']],\\\n",
    "                                         scans['ratio-error'][scans['fit-thresh']]))"
   ]
  },
  {
   "cell_type": "code",
   "execution_count": null,
   "metadata": {
    "collapsed": false,
    "scrolled": false
   },
   "outputs": [],
   "source": [
    "sampler.run_mcmc(pos, 1000);"
   ]
  },
  {
   "cell_type": "code",
   "execution_count": null,
   "metadata": {
    "collapsed": true
   },
   "outputs": [],
   "source": [
    "samples = sampler.chain[:, 50:, :].reshape((-1, ndim))"
   ]
  },
  {
   "cell_type": "code",
   "execution_count": null,
   "metadata": {
    "collapsed": false
   },
   "outputs": [],
   "source": [
    "fig,ax = plt.subplots(figsize=(15,10))\n",
    "for theta in samples[np.random.randint(len(samples), size=10)]:\n",
    "    b0_MCMC = theta[0]\n",
    "    bk_MCMC = (theta[1:n+1]**2 + theta[n+1:-1]**2)**0.5\n",
    "    ax.semilogy(index, bk_MCMC/(2*b0_MCMC),'kd-')\n",
    "ax.semilogy(index, bk_MLE/(2*b0_MLE),'ro-', label='MLE')\n",
    "# ax.semilogy(k, bk_cf/(2*b0_cf),'bd-', label='Curve Fit')\n",
    "# ax.semilogy(k, bk_guess/(2*b0_guess),'rd-', label='Guess')\n",
    "ax.set_xlabel('k')\n",
    "ax.legend(loc='best')\n",
    "ax.set_ylabel(r'$\\textrm{b}_{\\textrm{k}}$');"
   ]
  },
  {
   "cell_type": "code",
   "execution_count": null,
   "metadata": {
    "collapsed": false,
    "scrolled": false
   },
   "outputs": [],
   "source": [
    "figure, ax = plt.subplots(nrows = ndim, ncols=ndim, figsize=(15,10))\n",
    "# \n",
    "fig = corner.corner(samples, title_fmt='.4f',labels=[\"$R$\", \"$T$\", \"$L$\", \"$\\phi$\"],\\\n",
    "                      truths=result[\"x\"], fig=figure,show_titles=True, use_math_text=True)\n",
    "fig.savefig(save_name + 'corner_plot.png')"
   ]
  },
  {
   "cell_type": "code",
   "execution_count": null,
   "metadata": {
    "collapsed": false
   },
   "outputs": [],
   "source": [
    "fig,ax = plt.subplots(figsize=(15,10))\n",
    "for R,T,L, phi in samples[np.random.randint(len(samples), size=200)]:\n",
    "    ax.plot(scans['k'][scans['thresh']],\\\n",
    "            transmissionModel(scans['k'][scans['thresh']],R,T,B,phi), color=\"k\", alpha=0.1)\n",
    "# ax.plot(scans['k'][scans['thresh']], transmissionModel(scans['k'][scans['thresh']],*guesses), color=\"r\", alpha=0.8)\n",
    "ax.errorbar(scans['k'][scans['thresh']][::4], scans['ratio'][scans['thresh']][::4],\\\n",
    "            yerr=scans['ratio-error'][scans['thresh']][::4], fmt=\"r.-\",ecolor='b')\n",
    "ax.axis('tight');\n",
    "ax.set_xlabel('Frequency [GHz]')\n",
    "plt.savefig(save_name + 'projected-space.png')"
   ]
  },
  {
   "cell_type": "code",
   "execution_count": null,
   "metadata": {
    "collapsed": true
   },
   "outputs": [],
   "source": [
    "samples[:, 2] = np.exp(samples[:, 2])\n",
    "R_mcmc, T_mcmc, L_mcmc, phi_mcmc = map(lambda v: (v[1], v[2]-v[1], v[1]-v[0]),\n",
    "                             zip(*np.percentile(samples, [16, 50, 84],\n",
    "                                                axis=0)))\n",
    "A_mcmc = (1-(R_mcmc[0] + T_mcmc[0]), ((R_mcmc[1]**2 + T_mcmc[1]**2))**0.5, (R_mcmc[2]**2 + T_mcmc[2]**2)**0.5)\n",
    "scans['R_mcmc'] = R_mcmc\n",
    "scans['T_mcmc'] = T_mcmc\n",
    "scans['A_mcmc'] = A_mcmc\n",
    "scans['L_mcmc'] = L_mcmc\n",
    "scans['phi_mcmc'] = phi_mcmc"
   ]
  },
  {
   "cell_type": "code",
   "execution_count": null,
   "metadata": {
    "collapsed": false
   },
   "outputs": [],
   "source": [
    "datafile = h5py.File('mesh_filters.hdf5','a')\n",
    "base_name = hdf5_name.split('/')[0]\n",
    "try:\n",
    "    curr_grp = datafile[hdf5_name]\n",
    "except KeyError:\n",
    "    curr_grp = datafile.create_group(hdf5_name)\n",
    "curr_grp = scans"
   ]
  },
  {
   "cell_type": "code",
   "execution_count": null,
   "metadata": {
    "collapsed": false
   },
   "outputs": [],
   "source": [
    "1 - curr_grp['R_mcmc'][0]-curr_grp['T_mcmc'][0]"
   ]
  },
  {
   "cell_type": "code",
   "execution_count": null,
   "metadata": {
    "collapsed": false
   },
   "outputs": [],
   "source": [
    "curr_grp['A_mcmc']"
   ]
  },
  {
   "cell_type": "code",
   "execution_count": null,
   "metadata": {
    "collapsed": false
   },
   "outputs": [],
   "source": [
    "curr_grp['T_mcmc']"
   ]
  },
  {
   "cell_type": "code",
   "execution_count": null,
   "metadata": {
    "collapsed": false
   },
   "outputs": [],
   "source": [
    "curr_grp['R_mcmc']"
   ]
  },
  {
   "cell_type": "code",
   "execution_count": null,
   "metadata": {
    "collapsed": false
   },
   "outputs": [],
   "source": [
    "hdf5_name"
   ]
  },
  {
   "cell_type": "code",
   "execution_count": null,
   "metadata": {
    "collapsed": false
   },
   "outputs": [],
   "source": [
    "'a' in ['a', 'b', 'c']"
   ]
  },
  {
   "cell_type": "code",
   "execution_count": null,
   "metadata": {
    "collapsed": false
   },
   "outputs": [],
   "source": [
    "!rm c"
   ]
  },
  {
   "cell_type": "code",
   "execution_count": null,
   "metadata": {
    "collapsed": false
   },
   "outputs": [],
   "source": [
    "fig, ax = plt.subplots(figsize=(15,10))\n",
    "ax.plot(samples[:,1])"
   ]
  },
  {
   "cell_type": "code",
   "execution_count": null,
   "metadata": {
    "collapsed": true
   },
   "outputs": [],
   "source": [
    "# # data_label = \"15-1\"\n",
    "# N = len(scans['k'][scans['thresh']])\n",
    "# A_vec = np.zeros(N)\n",
    "# F_vec = np.zeros(N)\n",
    "# B_vec = np.zeros(N)\n",
    "# phi_vec = np.zeros(N)\n",
    "# indices = np.arange(N)\n",
    "\n",
    "# for i in xrange(N):\n",
    "#     points = (indices != i)\n",
    "#     popt, pcov = curve_fit(transmissionModel, scans['k'][scans['fit-thresh']][points],\\\n",
    "#                            scans['ratio'][scans['fit-thresh']][points], p0=guesses,\\\n",
    "#                            sigma=scans['ratio-error'][scans['fit-thresh']][points]\\\n",
    "#                                   ,bounds=([0, 0, 0, -np.pi],[2.0,np.inf,20,np.pi]))\n",
    "#     perr = np.sqrt(np.diag(pcov))\n",
    "#     A_vec[i], F_vec[i], B_vec[i], phi_vec[i] = popt#[0], popt[1], popt[2], popt[3], popt[4] \n",
    "\n",
    "# # Now we want to extract histograms of the 4 parameters but in terms of things relevant to\n",
    "# # the actual FP form of interest\n",
    "# R = 1 + 2./F_vec*(1 - np.sqrt(1 + F_vec))\n",
    "# T = np.sqrt(A_vec)*(1-R)\n",
    "# As = 1 - (R + T)\n",
    "# d_eff = B_vec*c/(4*np.pi)\n",
    "# phi = phi_vec/np.pi\n",
    "\n",
    "# R_avg = np.average(R)\n",
    "# R_err = jacknifeError(R, R_avg, N)\n",
    "\n",
    "# T_avg = np.average(T)\n",
    "# T_err = jacknifeError(T, T_avg, N)\n",
    "\n",
    "# As_avg = np.average(As)\n",
    "# As_err = jacknifeError(As, As_avg, N)\n",
    "\n",
    "# deff_avg = np.average(d_eff)\n",
    "# deff_err = jacknifeError(d_eff, deff_avg, N)\n",
    "\n",
    "# phi_avg = np.average(phi)\n",
    "# phi_err = jacknifeError(phi, phi_avg, N)\n",
    "# print \"The estimated value of R is %1.6f +/- %1.6f\" %(R_avg, R_err)\n",
    "# print \"The estimated value of T is %1.6f +/- %1.6f\" %(T_avg, T_err)\n",
    "# print \"The estimated value of A is %1.6f +/- %1.6f\" %(As_avg, As_err)\n",
    "# print \"The estimated value of d_eff is %1.6f +/- %1.6f\" %(deff_avg, deff_err)\n",
    "# print \"The estimated value of phi is %1.6f +/- %1.6f\" %(phi_avg, phi_err)\n",
    "\n",
    "# fig, ax = plt.subplots(figsize=(15,10))\n",
    "# n, bins, patches = ax.hist(R, bins=50, normed=True, histtype='step',\\\n",
    "#                            log=False, linewidth=2.0, label='R estimates')\n",
    "# bincenters = 0.5*(bins[1:] + bins[:-1])\n",
    "# pdf = mlab.normpdf(bincenters, R_avg, R_err)\n",
    "# # ax.plot(bincenters, pdf, 'r--', linewidth=2.0, label='gaussian profile')\n",
    "# ax.legend(loc='best')\n",
    "# ax.set_xticklabels([\"{:1.5g}\".format(t) for t in ax.get_xticks()])\n",
    "# ax.set_xlabel(r'R', fontsize=32);\n",
    "\n",
    "# fig, ax = plt.subplots(figsize=(15,10))\n",
    "# n, bins, patches = ax.hist(T, bins=50, normed=True, histtype='step',\\\n",
    "#                            log=False, linewidth=2.0, label='T estimates')\n",
    "# bincenters = 0.5*(bins[1:] + bins[:-1])\n",
    "# pdf = mlab.normpdf(bincenters, T_avg, T_err)\n",
    "# # ax.plot(bincenters, pdf, 'r--', linewidth=2.0, label='gaussian profile')\n",
    "# ax.legend(loc='upper left')\n",
    "# ax.set_xticklabels([\"{:1.5g}\".format(t) for t in ax.get_xticks()])\n",
    "# ax.set_xlabel(r'T', fontsize=32);\n",
    "\n",
    "# fig, ax = plt.subplots(figsize=(15,10))\n",
    "# n, bins, patches = ax.hist(As, bins=50, normed=True, histtype='step',\\\n",
    "#                            log=False, linewidth=2.0, label='As estimates')\n",
    "# bincenters = 0.5*(bins[1:] + bins[:-1])\n",
    "# pdf = mlab.normpdf(bincenters, As_avg, As_err)\n",
    "# # ax.plot(bincenters, pdf, 'r--', linewidth=2.0, label='gaussian profile')\n",
    "# ax.legend(loc='upper left')\n",
    "# ax.set_xticklabels([\"{:1.5g}\".format(t) for t in ax.get_xticks()])\n",
    "# ax.set_xlabel(r'As', fontsize=32);\n",
    "\n",
    "# fig, ax = plt.subplots(figsize=(15,10))\n",
    "# n, bins, patches = ax.hist(d_eff, bins=50, normed=True, histtype='step',\\\n",
    "#                            log=False, linewidth=2.0, label=r'd eff estimates')\n",
    "# bincenters = 0.5*(bins[1:] + bins[:-1])\n",
    "# pdf = mlab.normpdf(bincenters, deff_avg, deff_err)\n",
    "# # ax.plot(bincenters, pdf, 'r--', linewidth=2.0, label='gaussian profile')\n",
    "# ax.legend(loc='upper left')\n",
    "# ax.set_xticklabels([\"{:1.5g}\".format(t) for t in ax.get_xticks()])\n",
    "# ax.set_xlabel(r'Effective distance [mm]', fontsize=32);\n",
    "\n",
    "# fig, ax = plt.subplots(figsize=(15,10))\n",
    "# n, bins, patches = ax.hist(phi, bins=50, normed=True, histtype='step',\\\n",
    "#                            log=False, linewidth=2.0, label=r'$\\phi$ estimates')\n",
    "# bincenters = 0.5*(bins[1:] + bins[:-1])\n",
    "# pdf = mlab.normpdf(bincenters, phi_avg, phi_err)\n",
    "# # ax.plot(bincenters, pdf, 'r--', linewidth=2.0, label='gaussian profile')\n",
    "# ax.legend(loc='upper left')\n",
    "# ax.set_xticklabels([\"{:1.5g}\".format(t) for t in ax.get_xticks()])\n",
    "# ax.set_xlabel(r'$\\phi/\\pi$', fontsize=32);\n",
    "\n",
    "# params = [(T_avg/(1-R_avg))**2, 4*R_avg/(1-R_avg)**2, 4*np.pi*deff_avg/c, phi_avg*np.pi]\n",
    "# fig, ax = plt.subplots(figsize=(15,10))\n",
    "\n",
    "# ax.errorbar(scans['k'][scans['thresh']][::4], scans['ratio'][scans['thresh']][::4],\\\n",
    "#             yerr=scans['ratio-error'][scans['thresh']][::4], fmt='b.', ecolor='b');\n",
    "\n",
    "# ax.plot(scans['k'][scans['thresh']], transmissionModel(scans['k'][scans['thresh']], *params), 'r-');"
   ]
  }
 ],
 "metadata": {
  "kernelspec": {
   "display_name": "Python 2",
   "language": "python",
   "name": "python2"
  },
  "language_info": {
   "codemirror_mode": {
    "name": "ipython",
    "version": 2
   },
   "file_extension": ".py",
   "mimetype": "text/x-python",
   "name": "python",
   "nbconvert_exporter": "python",
   "pygments_lexer": "ipython2",
   "version": "2.7.10"
  }
 },
 "nbformat": 4,
 "nbformat_minor": 0
}
