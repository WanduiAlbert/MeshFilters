{
 "cells": [
  {
   "cell_type": "code",
   "execution_count": 2,
   "metadata": {
    "collapsed": true
   },
   "outputs": [],
   "source": [
    "import numpy as np\n",
    "import matplotlib.pyplot as plt\n",
    "%matplotlib inline\n",
    "from glob import glob\n",
    "from astropy.constants import c\n",
    "from scipy.optimize import curve_fit\n",
    "c = c.value*1e-6 #Speed of light in mm/ns"
   ]
  },
  {
   "cell_type": "code",
   "execution_count": 3,
   "metadata": {
    "collapsed": false
   },
   "outputs": [],
   "source": [
    "ydatadir = '../data/15-02 150GHz Ypol/'\n",
    "yfiles = glob(ydatadir + 'fts_150GHz_20160419_0*.txt') \n",
    "xdatadir = '../data/15-02 150GHz Xpol/'\n",
    "xfiles = glob(xdatadir + 'fts_150GHz_20160419_0*.txt')\n",
    "files = yfiles + xfiles\n",
    "myfilter = '15-02'\n",
    "freq = '150GHz'\n",
    "L = 1.75*25.4 # thickness of the etalon in mm\n",
    "# print files"
   ]
  },
  {
   "cell_type": "code",
   "execution_count": 4,
   "metadata": {
    "collapsed": true
   },
   "outputs": [],
   "source": [
    "def quadratic(x, A, B, C):\n",
    "    return A*x**2 + B*x + C"
   ]
  },
  {
   "cell_type": "code",
   "execution_count": 5,
   "metadata": {
    "collapsed": false
   },
   "outputs": [
    {
     "ename": "IndexError",
     "evalue": "list index out of range",
     "output_type": "error",
     "traceback": [
      "\u001b[0;31m---------------------------------------------------------------------------\u001b[0m",
      "\u001b[0;31mIndexError\u001b[0m                                Traceback (most recent call last)",
      "\u001b[0;32m<ipython-input-5-7eaaa62516ea>\u001b[0m in \u001b[0;36m<module>\u001b[0;34m()\u001b[0m\n\u001b[0;32m----> 1\u001b[0;31m \u001b[0mindex\u001b[0m\u001b[0;34m,\u001b[0m \u001b[0mtime\u001b[0m\u001b[0;34m,\u001b[0m \u001b[0mencoder\u001b[0m\u001b[0;34m,\u001b[0m \u001b[0msignal\u001b[0m \u001b[0;34m=\u001b[0m \u001b[0mnp\u001b[0m\u001b[0;34m.\u001b[0m\u001b[0mloadtxt\u001b[0m\u001b[0;34m(\u001b[0m\u001b[0mfiles\u001b[0m\u001b[0;34m[\u001b[0m\u001b[0;36m0\u001b[0m\u001b[0;34m]\u001b[0m\u001b[0;34m,\u001b[0m \u001b[0mcomments\u001b[0m\u001b[0;34m=\u001b[0m\u001b[0;34m'#'\u001b[0m\u001b[0;34m,\u001b[0m \u001b[0mskiprows\u001b[0m\u001b[0;34m=\u001b[0m\u001b[0;36m17\u001b[0m\u001b[0;34m,\u001b[0m \u001b[0munpack\u001b[0m\u001b[0;34m=\u001b[0m\u001b[0;32mTrue\u001b[0m\u001b[0;34m)\u001b[0m\u001b[0;34m\u001b[0m\u001b[0m\n\u001b[0m\u001b[1;32m      2\u001b[0m \u001b[0mindex2\u001b[0m\u001b[0;34m,\u001b[0m \u001b[0mtime2\u001b[0m\u001b[0;34m,\u001b[0m \u001b[0mencoder2\u001b[0m\u001b[0;34m,\u001b[0m \u001b[0msignal2\u001b[0m \u001b[0;34m=\u001b[0m \u001b[0mnp\u001b[0m\u001b[0;34m.\u001b[0m\u001b[0mloadtxt\u001b[0m\u001b[0;34m(\u001b[0m\u001b[0mfiles\u001b[0m\u001b[0;34m[\u001b[0m\u001b[0;36m1\u001b[0m\u001b[0;34m]\u001b[0m\u001b[0;34m,\u001b[0m \u001b[0mcomments\u001b[0m\u001b[0;34m=\u001b[0m\u001b[0;34m'#'\u001b[0m\u001b[0;34m,\u001b[0m \u001b[0mskiprows\u001b[0m\u001b[0;34m=\u001b[0m\u001b[0;36m17\u001b[0m\u001b[0;34m,\u001b[0m \u001b[0munpack\u001b[0m\u001b[0;34m=\u001b[0m\u001b[0;32mTrue\u001b[0m\u001b[0;34m)\u001b[0m\u001b[0;34m\u001b[0m\u001b[0m\n\u001b[1;32m      3\u001b[0m \u001b[0;31m# encoder /= c/2\u001b[0m\u001b[0;34m\u001b[0m\u001b[0;34m\u001b[0m\u001b[0m\n\u001b[1;32m      4\u001b[0m \u001b[0;31m# encoder2 /= c/2\u001b[0m\u001b[0;34m\u001b[0m\u001b[0;34m\u001b[0m\u001b[0m\n\u001b[1;32m      5\u001b[0m \u001b[0;34m\u001b[0m\u001b[0m\n",
      "\u001b[0;31mIndexError\u001b[0m: list index out of range"
     ]
    }
   ],
   "source": [
    "index, time, encoder, signal = np.loadtxt(files[0], comments='#', skiprows=17, unpack=True)\n",
    "index2, time2, encoder2, signal2 = np.loadtxt(files[1], comments='#', skiprows=17, unpack=True)\n",
    "# encoder /= c/2\n",
    "# encoder2 /= c/2\n",
    "\n",
    "# Find the right position of the origin of the interferogram\n",
    "peak = np.where(signal == max(signal))[0][0]\n",
    "y = signal[peak-1: peak+2]\n",
    "x = encoder[peak-1:peak+2]\n",
    "X = np.vstack([x**2, x, np.ones_like(x)]).T\n",
    "A = np.linalg.solve(X, y)\n",
    "actual_peak = -A[1]/(2*A[0])\n",
    "sig_peak = quadratic(actual_peak, *list(A))\n",
    "#Let's try out I(z) - I(0)/2\n",
    "signal -= sig_peak/2\n",
    "print(encoder[peak])\n",
    "encoder -= actual_peak\n",
    "encoder *=2 # Encoder now represents the path length difference\n",
    "\n",
    "peak2 = np.where(signal2 == max(signal2))[0][0]\n",
    "y = signal2[peak2-1: peak2+2]\n",
    "x = encoder2[peak2-1:peak2+2]\n",
    "X = np.vstack([x**2, x, np.ones_like(x)]).T\n",
    "A2 = np.linalg.solve(X, y)\n",
    "actual_peak2 = -A[1]/(2*A[0])\n",
    "sig_peak2 = quadratic(actual_peak2, *list(A2))\n",
    "#Let's try out I(z) - I(0)/2\n",
    "signal2 -= sig_peak2/2\n",
    "print(encoder2[peak2])\n",
    "encoder2 -= actual_peak2\n",
    "encoder2 *=2 # Encoder now represents the path length difference\n",
    "\n",
    "# peak = encoder[np.where(signal == max(signal))[0]][0]\n",
    "# thresh = np.logical_and(encoder > (peak - 1.0), encoder < (peak + 1.0))\n",
    "# thresh2 = np.logical_and(encoder2 > (peak - 1.0), encoder2 < (peak + 1.0))\n",
    "# encoder = encoder[thresh]\n",
    "# signal = signal[thresh]\n",
    "# encoder2 = encoder2[thresh2]\n",
    "# signal2 = signal2[thresh2]\n",
    "\n",
    "# # Remove the dc component as much as we can\n",
    "# mean = np.average(signal)\n",
    "# signal -= mean\n",
    "\n",
    "# mean2 = np.average(signal2)\n",
    "# signal2 -= mean2\n",
    "\n"
   ]
  },
  {
   "cell_type": "code",
   "execution_count": 6,
   "metadata": {
    "collapsed": false
   },
   "outputs": [
    {
     "ename": "NameError",
     "evalue": "name 'encoder2' is not defined",
     "output_type": "error",
     "traceback": [
      "\u001b[0;31m---------------------------------------------------------------------------\u001b[0m",
      "\u001b[0;31mNameError\u001b[0m                                 Traceback (most recent call last)",
      "\u001b[0;32m<ipython-input-6-a739c58f3c12>\u001b[0m in \u001b[0;36m<module>\u001b[0;34m()\u001b[0m\n\u001b[1;32m      1\u001b[0m \u001b[0mfig\u001b[0m\u001b[0;34m,\u001b[0m \u001b[0max\u001b[0m \u001b[0;34m=\u001b[0m \u001b[0mplt\u001b[0m\u001b[0;34m.\u001b[0m\u001b[0msubplots\u001b[0m\u001b[0;34m(\u001b[0m\u001b[0mfigsize\u001b[0m\u001b[0;34m=\u001b[0m\u001b[0;34m(\u001b[0m\u001b[0;36m15\u001b[0m\u001b[0;34m,\u001b[0m\u001b[0;36m10\u001b[0m\u001b[0;34m)\u001b[0m\u001b[0;34m)\u001b[0m\u001b[0;34m\u001b[0m\u001b[0m\n\u001b[0;32m----> 2\u001b[0;31m \u001b[0max\u001b[0m\u001b[0;34m.\u001b[0m\u001b[0mplot\u001b[0m\u001b[0;34m(\u001b[0m\u001b[0mencoder2\u001b[0m\u001b[0;34m,\u001b[0m \u001b[0msignal2\u001b[0m\u001b[0;34m)\u001b[0m\u001b[0;34m\u001b[0m\u001b[0m\n\u001b[0m\u001b[1;32m      3\u001b[0m \u001b[0max\u001b[0m\u001b[0;34m.\u001b[0m\u001b[0mset_xlabel\u001b[0m\u001b[0;34m(\u001b[0m\u001b[0;34m'Path Length Difference [mm]'\u001b[0m\u001b[0;34m)\u001b[0m\u001b[0;34m\u001b[0m\u001b[0m\n\u001b[1;32m      4\u001b[0m \u001b[0max\u001b[0m\u001b[0;34m.\u001b[0m\u001b[0mset_ylabel\u001b[0m\u001b[0;34m(\u001b[0m\u001b[0;34m'Interferogram'\u001b[0m\u001b[0;34m)\u001b[0m\u001b[0;34m\u001b[0m\u001b[0m\n\u001b[1;32m      5\u001b[0m \u001b[0max\u001b[0m\u001b[0;34m.\u001b[0m\u001b[0maxis\u001b[0m\u001b[0;34m(\u001b[0m\u001b[0;34m'tight'\u001b[0m\u001b[0;34m)\u001b[0m\u001b[0;34m\u001b[0m\u001b[0m\n",
      "\u001b[0;31mNameError\u001b[0m: name 'encoder2' is not defined"
     ]
    },
    {
     "data": {
      "image/png": "[encoded data removed]",
      "text/plain": [
       "<matplotlib.figure.Figure at 0x10d7905c0>"
      ]
     },
     "metadata": {},
     "output_type": "display_data"
    }
   ],
   "source": [
    "fig, ax = plt.subplots(figsize=(15,10))\n",
    "ax.plot(encoder2, signal2)\n",
    "ax.set_xlabel('Path Length Difference [mm]')\n",
    "ax.set_ylabel('Interferogram')\n",
    "ax.axis('tight')\n",
    "ax.grid();\n",
    "plt.savefig('assymetricinterferogram.png')"
   ]
  },
  {
   "cell_type": "code",
   "execution_count": 6,
   "metadata": {
    "collapsed": false
   },
   "outputs": [
    {
     "name": "stdout",
     "output_type": "stream",
     "text": [
      "[ -7.31349101e-04  -1.97981697e-13   1.68235801e-04]\n",
      "-1.35353756942e-10\n",
      "-0.00147971124363\n",
      "-1.35353756849e-10\n"
     ]
    }
   ],
   "source": [
    "#Find the point of max signal in the interferogram. That is the point of zero path length difference\n",
    "peak = np.where(signal == max(signal))[0][0]\n",
    "y = signal[peak-1: peak+2]\n",
    "x = encoder[peak-1:peak+2]\n",
    "X = np.vstack([x**2, x, np.ones_like(x)]).T\n",
    "A = np.linalg.solve(X, y)\n",
    "print A\n",
    "actual_peak = -A[1]/(2*A[0])\n",
    "print actual_peak\n",
    "print encoder[peak]\n",
    "dpeak = actual_peak - encoder[peak]\n",
    "encoder += dpeak\n",
    "print encoder[peak]"
   ]
  },
  {
   "cell_type": "code",
   "execution_count": 7,
   "metadata": {
    "collapsed": false,
    "scrolled": false
   },
   "outputs": [
    {
     "data": {
      "text/plain": [
       "[<matplotlib.lines.Line2D at 0x1074f7110>]"
      ]
     },
     "execution_count": 7,
     "metadata": {},
     "output_type": "execute_result"
    },
    {
     "data": {
      "image/png": "[encoded data removed]",
      "text/plain": [
       "<matplotlib.figure.Figure at 0x106ca0650>"
      ]
     },
     "metadata": {},
     "output_type": "display_data"
    }
   ],
   "source": [
    "fig, ax =plt.subplots(figsize=(15,10))\n",
    "ax.plot(encoder[peak-1: peak+2], signal[peak-1: peak+2], 'b+', markersize=20)\n",
    "# ax.axis('tight');\n",
    "xs = np.r_[encoder[peak-2]:encoder[peak+2]:100j]\n",
    "ax.plot(xs, quadratic(xs, *list(A)), 'r-')\n",
    "# fig, ax =plt.subplots(figsize=(15,10))\n",
    "# ax.plot(encoder2, signal2, 'b-x')\n",
    "# ax.axis('tight');"
   ]
  },
  {
   "cell_type": "code",
   "execution_count": 8,
   "metadata": {
    "collapsed": false
   },
   "outputs": [],
   "source": [
    "from scipy.fftpack import fft, fftfreq, ifft\n",
    "y1 = fft(signal)\n",
    "d1 = np.mean(np.diff(encoder))\n",
    "n1 = len(encoder)\n",
    "k1 = fftfreq(n1,d1)\n",
    "\n",
    "#### Second sample\n",
    "# signal2 *= np.cos(-encoder2*a)\n",
    "y2 = fft(signal2)\n",
    "d2 = np.mean(np.diff(encoder2))\n",
    "n2 = len(encoder2)\n",
    "k2 =fftfreq(n2,d2)\n",
    "\n",
    "peak2 =  np.where(y2 == max(y2))[0]\n",
    "peak1 = np.where(y1 == max(y1))[0]\n",
    "a = k1[peak1] - k2[peak2]"
   ]
  },
  {
   "cell_type": "code",
   "execution_count": 9,
   "metadata": {
    "collapsed": false
   },
   "outputs": [],
   "source": [
    "# fig, ax =plt.subplots(figsize=(15,10))\n",
    "# ax.plot(signal, signal2, 'r.')\n",
    "# ax.grid(which='major');"
   ]
  },
  {
   "cell_type": "code",
   "execution_count": 10,
   "metadata": {
    "collapsed": false
   },
   "outputs": [
    {
     "data": {
      "image/png": "[encoded data removed]",
      "text/plain": [
       "<matplotlib.figure.Figure at 0x107439b10>"
      ]
     },
     "metadata": {},
     "output_type": "display_data"
    }
   ],
   "source": [
    "fig, ax =plt.subplots(figsize=(15,10))\n",
    "thresh = np.logical_and(k1 > 140, k1 < 160)\n",
    "thresh2 = np.logical_and(k2 > 140, k2 < 160)\n",
    "ax.plot(k1[thresh], np.abs(y1)[thresh],'k', label='No Sample');\n",
    "ax.plot(k2[thresh2], np.abs(y2)[thresh2],'r', label='Sample')\n",
    "# ax.plot(np.abs(y1)[thresh],'k', label='No Sample');\n",
    "# ax.plot(np.abs(y2)[thresh2],'r', label='Sample')\n",
    "ax.legend()\n",
    "ax.axis('tight');"
   ]
  },
  {
   "cell_type": "code",
   "execution_count": null,
   "metadata": {
    "collapsed": false
   },
   "outputs": [],
   "source": [
    "absorption = np.abs(y2[thresh2])/np.abs(y1[thresh])\n",
    "\n",
    "fig, ax =plt.subplots(figsize=(15,10))\n",
    "ax.plot(k1[thresh], absorption)\n",
    "ax.grid(which='major')\n",
    "ax.set_xlabel('Frequency, GHz');\n",
    "ax.set_ylabel('Transmission')\n",
    "ax.axis('tight');"
   ]
  },
  {
   "cell_type": "code",
   "execution_count": null,
   "metadata": {
    "collapsed": false
   },
   "outputs": [],
   "source": [
    "# L = 2.25*25.4 # thickness of the etalon in mm\n",
    "# from scipy.optimize import curve_fit\n",
    "\n",
    "# def transmission(nu, T, A, F, theta, dr):\n",
    "#     lamb = c/nu\n",
    "#     delta = (4*np.pi*np.cos(theta)*L/lamb) + dr\n",
    "#     return (T/(A+T))**2*(1 - F * (1 - np.cos(delta))/2)\n",
    "\n",
    "# # guesses = [0.01, np.pi/2]\n",
    "# popt, pcov = curve_fit(transmission, k1[thresh], absorption)\n",
    "# print popt"
   ]
  },
  {
   "cell_type": "code",
   "execution_count": null,
   "metadata": {
    "collapsed": false
   },
   "outputs": [],
   "source": [
    "# fig, ax =plt.subplots(figsize=(15,10))\n",
    "# ax.plot(k1[thresh], absorption, 'r.-')\n",
    "# ax.plot(k1[thresh], transmission(k1[thresh], *popt), 'b')\n",
    "# ax.grid(which='major')\n",
    "# ax.set_xlabel('Frequency, GHz');\n",
    "# ax.set_ylabel('Transmission')\n",
    "# ax.axis('tight');"
   ]
  },
  {
   "cell_type": "code",
   "execution_count": null,
   "metadata": {
    "collapsed": false
   },
   "outputs": [],
   "source": [
    "index, time, encoder, signal = np.loadtxt(files[2], comments='#', skiprows=17, unpack=True)\n",
    "mean = np.average(signal)\n",
    "signal -= mean\n",
    "encoder /= c/2\n",
    "index2, time2, encoder2, signal2 = np.loadtxt(files[3], comments='#', skiprows=17, unpack=True)\n",
    "mean2 = np.average(signal2)\n",
    "signal2 -= mean2\n",
    "encoder2 /= c/2\n",
    "peak = encoder[np.where(signal == max(signal))[0]][0]\n",
    "thresh = np.logical_and(encoder > (peak - 1.0), encoder < (peak + 1.0))\n",
    "thresh2 = np.logical_and(encoder2 > (peak - 1.0), encoder2 < (peak + 1.0))\n",
    "encoder = encoder[thresh]\n",
    "signal = signal[thresh]\n",
    "encoder2 = encoder2[thresh2]\n",
    "signal2 = signal2[thresh2]\n",
    "# fig, ax =plt.subplots(figsize=(15,10))\n",
    "# ax.plot(encoder, signal, 'b')\n",
    "# ax.axis('tight');\n",
    "y1 = fft(signal)\n",
    "d1 = np.mean(np.diff(encoder))\n",
    "n1 = len(encoder)\n",
    "k1 = fftfreq(n1,d1)\n",
    "#### Second sample\n",
    "y2 = fft(signal2)\n",
    "d2 = np.mean(np.diff(encoder2))\n",
    "n2 = len(encoder2)\n",
    "k2 =fftfreq(n2,d2)\n",
    "# peak2 =  np.where(y2 == max(y2))[0]\n",
    "# peak1 = np.where(y1 == max(y1))[0]\n",
    "# a = k1[peak1] - k2[peak2]\n",
    "# print a\n",
    "# k2 += a\n",
    "fig, ax =plt.subplots(figsize=(15,10))\n",
    "thresh = np.logical_and(k1 > 120, k1 < 180)\n",
    "thresh2 = np.logical_and(k2 > 120, k2 < 180)\n",
    "ax.plot(k1[thresh], np.abs(y1)[thresh],'k', label='No Sample');\n",
    "ax.plot(k2[thresh2], np.abs(y2)[thresh2],'r', label='Sample');\n",
    "ax.legend();"
   ]
  },
  {
   "cell_type": "code",
   "execution_count": null,
   "metadata": {
    "collapsed": false
   },
   "outputs": [],
   "source": [
    "index, time, encoder, signal = np.loadtxt(datadir + 'fts_150GHz_20160404_002.txt', comments='#', skiprows=17, unpack=True)\n",
    "mean = np.average(signal)\n",
    "signal -= mean\n",
    "encoder /= c/2\n",
    "index2, time2, encoder2, signal2 = np.loadtxt(datadir + 'fts_150GHz_20160404_003.txt', comments='#', skiprows=17, unpack=True)\n",
    "mean2 = np.average(signal2)\n",
    "signal2 -= mean2\n",
    "encoder2 /= c/2\n",
    "peak = encoder[np.where(signal == max(signal))[0]][0]\n",
    "thresh = np.logical_and(encoder > (peak - 1.0), encoder < (peak + 1.0))\n",
    "thresh2 = np.logical_and(encoder2 > (peak - 1.0), encoder2 < (peak + 1.0))\n",
    "encoder = encoder[thresh]\n",
    "signal = signal[thresh]\n",
    "encoder2 = encoder2[thresh2]\n",
    "signal2 = signal2[thresh2]\n",
    "y1 = fft(signal)\n",
    "d1 = (encoder[1]-encoder[0])\n",
    "n1 = len(encoder)\n",
    "k1 =fftfreq(n1,d1)\n",
    "#### Second sample\n",
    "y2 = fft(signal2)\n",
    "d2 = (encoder2[1]-encoder2[0])\n",
    "n2 = len(encoder2)\n",
    "k2 =fftfreq(n2,d2)\n",
    "# peak2 =  np.where(y2 == max(y2))[0]\n",
    "# peak1 = np.where(y1 == max(y1))[0]\n",
    "# a = k1[peak1] - k2[peak2]\n",
    "# print a\n",
    "# k2 += a\n",
    "fig, ax =plt.subplots(figsize=(15,10))\n",
    "thresh = np.logical_and(k1 > 120, k1 < 180)\n",
    "thresh2 = np.logical_and(k2 > 120, k2 < 180)\n",
    "ax.plot(k1[thresh], np.abs(y1)[thresh],'k', label='No Sample');\n",
    "ax.plot(k2[thresh2], np.abs(y2)[thresh2],'r', label='Sample');\n",
    "# ax.plot(k1, np.abs(y1),'k', label='No Sample');\n",
    "# ax.plot(k2, np.abs(y2),'r', label='Sample');\n",
    "ax.legend();"
   ]
  },
  {
   "cell_type": "code",
   "execution_count": null,
   "metadata": {
    "collapsed": false
   },
   "outputs": [],
   "source": [
    "dx = np.mean(np.diff(encoder))\n",
    "dx2 = np.mean(np.diff(encoder2))\n",
    "\n",
    "print dx, dx2\n",
    "\n",
    "# fig, ax = plt.subplots(figsize=(15,10))\n",
    "# ax.plot(encoder[1:], dx, 'r.')\n",
    "# # ax.plot(dx2, 'b.');"
   ]
  },
  {
   "cell_type": "code",
   "execution_count": null,
   "metadata": {
    "collapsed": false
   },
   "outputs": [],
   "source": [
    "(popt[0]/(popt[0] + popt[1]))**2"
   ]
  },
  {
   "cell_type": "code",
   "execution_count": null,
   "metadata": {
    "collapsed": false
   },
   "outputs": [],
   "source": [
    "c/(25.4*2.25)"
   ]
  },
  {
   "cell_type": "code",
   "execution_count": null,
   "metadata": {
    "collapsed": false
   },
   "outputs": [],
   "source": [
    "c"
   ]
  },
  {
   "cell_type": "code",
   "execution_count": null,
   "metadata": {
    "collapsed": false
   },
   "outputs": [],
   "source": [
    "0.197/0.5"
   ]
  },
  {
   "cell_type": "code",
   "execution_count": null,
   "metadata": {
    "collapsed": false
   },
   "outputs": [],
   "source": [
    "from astropy.constants import h,c,G,m_n\n",
    "hbar = h/(2*np.pi)\n",
    "R = (9*np.pi/4)**(2./3)*hbar**2/(G*m_n**3*(1.2e57)**(1./3))\n",
    "R.to('km')"
   ]
  },
  {
   "cell_type": "code",
   "execution_count": null,
   "metadata": {
    "collapsed": false
   },
   "outputs": [],
   "source": [
    "E_f = hbar**2/(2*m_n*R**2)*(9*np.pi/4*1.2e57)**(2./3)\n",
    "E_f.to('GeV')"
   ]
  },
  {
   "cell_type": "code",
   "execution_count": null,
   "metadata": {
    "collapsed": false
   },
   "outputs": [],
   "source": [
    "(9*np.pi/4*1.2e57)**(2./3)"
   ]
  },
  {
   "cell_type": "code",
   "execution_count": null,
   "metadata": {
    "collapsed": false
   },
   "outputs": [],
   "source": [
    "0.057/0.94"
   ]
  },
  {
   "cell_type": "code",
   "execution_count": null,
   "metadata": {
    "collapsed": false
   },
   "outputs": [],
   "source": [
    "peak"
   ]
  },
  {
   "cell_type": "code",
   "execution_count": 7,
   "metadata": {
    "collapsed": false
   },
   "outputs": [
    {
     "ename": "NameError",
     "evalue": "name 'index' is not defined",
     "output_type": "error",
     "traceback": [
      "\u001b[0;31m---------------------------------------------------------------------------\u001b[0m",
      "\u001b[0;31mNameError\u001b[0m                                 Traceback (most recent call last)",
      "\u001b[0;32m<ipython-input-7-caf7e7bf96a7>\u001b[0m in \u001b[0;36m<module>\u001b[0;34m()\u001b[0m\n\u001b[0;32m----> 1\u001b[0;31m \u001b[0mindex\u001b[0m\u001b[0;34m\u001b[0m\u001b[0m\n\u001b[0m",
      "\u001b[0;31mNameError\u001b[0m: name 'index' is not defined"
     ]
    }
   ],
   "source": [
    "index"
   ]
  },
  {
   "cell_type": "code",
   "execution_count": 8,
   "metadata": {
    "collapsed": true
   },
   "outputs": [],
   "source": [
    "np.loadtxt?"
   ]
  },
  {
   "cell_type": "code",
   "execution_count": null,
   "metadata": {
    "collapsed": true
   },
   "outputs": [],
   "source": []
  }
 ],
 "metadata": {
  "kernelspec": {
   "display_name": "Python 3",
   "language": "python",
   "name": "python3"
  },
  "language_info": {
   "codemirror_mode": {
    "name": "ipython",
    "version": 3
   },
   "file_extension": ".py",
   "mimetype": "text/x-python",
   "name": "python",
   "nbconvert_exporter": "python",
   "pygments_lexer": "ipython3",
   "version": "3.5.1"
  }
 },
 "nbformat": 4,
 "nbformat_minor": 0
}
